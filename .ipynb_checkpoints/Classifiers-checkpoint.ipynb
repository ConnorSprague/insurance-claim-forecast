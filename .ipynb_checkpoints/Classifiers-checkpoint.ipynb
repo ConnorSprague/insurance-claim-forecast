{
 "cells": [
  {
   "cell_type": "markdown",
   "metadata": {},
   "source": [
    "<h1>Testing a global Classifier algo</h1>\n",
    "<p>TO DO: <br>\n",
    "Bin the claim dates into seasons or months (int)<br>\n",
    "bin the enrol dates into \"years old\" (int) <br>\n",
    "push claimAmount into int (int) <br>\n",
    "One Hot Dog, Breed, and Age <br>\n",
    "Train Test Split <br>\n",
    "\n",
    "<br>\n",
    "Try Lin regression <br>\n",
    "Try log regression <br>\n",
    "MAYBE try simple NN.... data is lacking</p>"
   ]
  },
  {
   "cell_type": "code",
   "execution_count": 2,
   "metadata": {},
   "outputs": [
    {
     "name": "stdout",
     "output_type": "stream",
     "text": [
      "current directory is : C:\\Users\\fo628e\\Documents\\GitHub\\insurance-claim-forecast\n",
      "Directory name is : insurance-claim-forecast\n"
     ]
    }
   ],
   "source": [
    "import pandas as pd\n",
    "import sklearn as sk\n",
    "import seaborn as sns\n",
    "import matplotlib.pyplot as plt\n",
    "import numpy as np\n",
    "import os\n",
    "from collections import defaultdict\n",
    "\n",
    "#set pwd\n",
    "dirpath = os.getcwd()\n",
    "print(\"current directory is : \" + dirpath)\n",
    "foldername = os.path.basename(dirpath)\n",
    "print(\"Directory name is : \" + foldername)"
   ]
  },
  {
   "cell_type": "code",
   "execution_count": null,
   "metadata": {},
   "outputs": [],
   "source": [
    "df = pd.read_csv(dirpath+'data.csv')"
   ]
  }
 ],
 "metadata": {
  "kernelspec": {
   "display_name": "Python 3",
   "language": "python",
   "name": "python3"
  },
  "language_info": {
   "codemirror_mode": {
    "name": "ipython",
    "version": 3
   },
   "file_extension": ".py",
   "mimetype": "text/x-python",
   "name": "python",
   "nbconvert_exporter": "python",
   "pygments_lexer": "ipython3",
   "version": "3.6.10"
  }
 },
 "nbformat": 4,
 "nbformat_minor": 4
}
