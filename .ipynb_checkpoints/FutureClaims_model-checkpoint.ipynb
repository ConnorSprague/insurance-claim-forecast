{
 "cells": [
  {
   "cell_type": "code",
   "execution_count": 2,
   "metadata": {},
   "outputs": [
    {
     "name": "stdout",
     "output_type": "stream",
     "text": [
      "current directory is : C:\\Users\\D4rkmatter\\Documents\\GitHub\\insurance-claim-forecast\n",
      "Directory name is : insurance-claim-forecast\n"
     ]
    }
   ],
   "source": [
    "import pandas as pd\n",
    "import numpy as np\n",
    "import matplotlib.pyplot as plt\n",
    "import sklearn as sk\n",
    "import os\n",
    "import datetime\n",
    "from statsmodels.graphics.tsaplots import plot_acf,plot_pacf\n",
    "import statsmodels.api as sm\n",
    "import dateutil\n",
    "import seaborn as sns\n",
    "\n",
    "#set pwd\n",
    "dirpath = os.getcwd()\n",
    "print(\"current directory is : \" + dirpath)\n",
    "foldername = os.path.basename(dirpath)\n",
    "print(\"Directory name is : \" + foldername)"
   ]
  },
  {
   "cell_type": "markdown",
   "metadata": {},
   "source": [
    "<h1>Claim Data</h1>"
   ]
  },
  {
   "cell_type": "code",
   "execution_count": 3,
   "metadata": {},
   "outputs": [
    {
     "data": {
      "text/plain": [
       "(37049, 4)"
      ]
     },
     "execution_count": 3,
     "metadata": {},
     "output_type": "execute_result"
    }
   ],
   "source": [
    "claimdata=pd.read_csv('claimdata.csv')\n",
    "#Clean Data to months\n",
    "claimdata['ClaimDate'] =  pd.to_datetime(claimdata['ClaimDate'])\n",
    "claimdata['ClaimDate'] = claimdata['ClaimDate'].dt.strftime('%b %Y') #Consider dropping year for training (year may not be important) --> false\n",
    "claimdata.shape"
   ]
  },
  {
   "cell_type": "markdown",
   "metadata": {},
   "source": [
    "<h2>Consolidate Claims into same month</h2>"
   ]
  },
  {
   "cell_type": "code",
   "execution_count": 4,
   "metadata": {},
   "outputs": [],
   "source": [
    "group = claimdata.groupby(['PetId','ClaimDate'])\n",
    "claimdata = group.aggregate(np.sum)\n",
    "claimdata = claimdata.reset_index()"
   ]
  },
  {
   "cell_type": "code",
   "execution_count": 5,
   "metadata": {},
   "outputs": [
    {
     "data": {
      "text/plain": [
       "(22700, 4)"
      ]
     },
     "execution_count": 5,
     "metadata": {},
     "output_type": "execute_result"
    }
   ],
   "source": [
    "claimdata.shape"
   ]
  },
  {
   "cell_type": "markdown",
   "metadata": {},
   "source": [
    "<h2>Claimdata Simple Exploration</h2>"
   ]
  },
  {
   "cell_type": "code",
   "execution_count": 6,
   "metadata": {},
   "outputs": [
    {
     "data": {
      "text/plain": [
       "count    22700.000000\n",
       "mean       664.278259\n",
       "std       1522.820667\n",
       "min          1.400000\n",
       "25%         90.317500\n",
       "50%        217.945000\n",
       "75%        559.372500\n",
       "max      48691.460000\n",
       "Name: ClaimAmount, dtype: float64"
      ]
     },
     "execution_count": 6,
     "metadata": {},
     "output_type": "execute_result"
    }
   ],
   "source": [
    "claimdata.ClaimAmount.describe()\n",
    "#claimdata.ClaimAmount.median()"
   ]
  },
  {
   "cell_type": "code",
   "execution_count": 7,
   "metadata": {},
   "outputs": [
    {
     "data": {
      "text/html": [
       "<div>\n",
       "<style scoped>\n",
       "    .dataframe tbody tr th:only-of-type {\n",
       "        vertical-align: middle;\n",
       "    }\n",
       "\n",
       "    .dataframe tbody tr th {\n",
       "        vertical-align: top;\n",
       "    }\n",
       "\n",
       "    .dataframe thead th {\n",
       "        text-align: right;\n",
       "    }\n",
       "</style>\n",
       "<table border=\"1\" class=\"dataframe\">\n",
       "  <thead>\n",
       "    <tr style=\"text-align: right;\">\n",
       "      <th></th>\n",
       "      <th>PetId</th>\n",
       "      <th>ClaimDate</th>\n",
       "      <th>ClaimId</th>\n",
       "      <th>ClaimAmount</th>\n",
       "    </tr>\n",
       "  </thead>\n",
       "  <tbody>\n",
       "    <tr>\n",
       "      <th>0</th>\n",
       "      <td>2</td>\n",
       "      <td>Apr 2018</td>\n",
       "      <td>24729</td>\n",
       "      <td>346.61</td>\n",
       "    </tr>\n",
       "    <tr>\n",
       "      <th>1</th>\n",
       "      <td>2</td>\n",
       "      <td>Aug 2018</td>\n",
       "      <td>13987</td>\n",
       "      <td>190.69</td>\n",
       "    </tr>\n",
       "    <tr>\n",
       "      <th>2</th>\n",
       "      <td>2</td>\n",
       "      <td>Dec 2015</td>\n",
       "      <td>35612</td>\n",
       "      <td>75.32</td>\n",
       "    </tr>\n",
       "    <tr>\n",
       "      <th>3</th>\n",
       "      <td>2</td>\n",
       "      <td>Dec 2017</td>\n",
       "      <td>35613</td>\n",
       "      <td>567.32</td>\n",
       "    </tr>\n",
       "    <tr>\n",
       "      <th>4</th>\n",
       "      <td>2</td>\n",
       "      <td>Feb 2018</td>\n",
       "      <td>7633</td>\n",
       "      <td>82.80</td>\n",
       "    </tr>\n",
       "    <tr>\n",
       "      <th>...</th>\n",
       "      <td>...</td>\n",
       "      <td>...</td>\n",
       "      <td>...</td>\n",
       "      <td>...</td>\n",
       "    </tr>\n",
       "    <tr>\n",
       "      <th>22695</th>\n",
       "      <td>9998</td>\n",
       "      <td>Dec 2016</td>\n",
       "      <td>35689</td>\n",
       "      <td>5939.08</td>\n",
       "    </tr>\n",
       "    <tr>\n",
       "      <th>22696</th>\n",
       "      <td>9998</td>\n",
       "      <td>Jul 2016</td>\n",
       "      <td>6869</td>\n",
       "      <td>299.62</td>\n",
       "    </tr>\n",
       "    <tr>\n",
       "      <th>22697</th>\n",
       "      <td>9998</td>\n",
       "      <td>Mar 2016</td>\n",
       "      <td>3260</td>\n",
       "      <td>587.73</td>\n",
       "    </tr>\n",
       "    <tr>\n",
       "      <th>22698</th>\n",
       "      <td>9998</td>\n",
       "      <td>May 2016</td>\n",
       "      <td>35401</td>\n",
       "      <td>123.75</td>\n",
       "    </tr>\n",
       "    <tr>\n",
       "      <th>22699</th>\n",
       "      <td>9998</td>\n",
       "      <td>Nov 2018</td>\n",
       "      <td>52979</td>\n",
       "      <td>707.25</td>\n",
       "    </tr>\n",
       "  </tbody>\n",
       "</table>\n",
       "<p>22700 rows × 4 columns</p>\n",
       "</div>"
      ],
      "text/plain": [
       "       PetId ClaimDate  ClaimId  ClaimAmount\n",
       "0          2  Apr 2018    24729       346.61\n",
       "1          2  Aug 2018    13987       190.69\n",
       "2          2  Dec 2015    35612        75.32\n",
       "3          2  Dec 2017    35613       567.32\n",
       "4          2  Feb 2018     7633        82.80\n",
       "...      ...       ...      ...          ...\n",
       "22695   9998  Dec 2016    35689      5939.08\n",
       "22696   9998  Jul 2016     6869       299.62\n",
       "22697   9998  Mar 2016     3260       587.73\n",
       "22698   9998  May 2016    35401       123.75\n",
       "22699   9998  Nov 2018    52979       707.25\n",
       "\n",
       "[22700 rows x 4 columns]"
      ]
     },
     "execution_count": 7,
     "metadata": {},
     "output_type": "execute_result"
    }
   ],
   "source": [
    "claimdata"
   ]
  },
  {
   "cell_type": "code",
   "execution_count": 8,
   "metadata": {},
   "outputs": [
    {
     "data": {
      "text/plain": [
       "<matplotlib.axes._subplots.AxesSubplot at 0x21fcc71ae80>"
      ]
     },
     "execution_count": 8,
     "metadata": {},
     "output_type": "execute_result"
    },
    {
     "data": {
      "image/png": "[encoded data removed]",
      "text/plain": [
       "<Figure size 2160x360 with 1 Axes>"
      ]
     },
     "metadata": {
      "needs_background": "light"
     },
     "output_type": "display_data"
    }
   ],
   "source": [
    "claimdata.ClaimAmount.hist(bins=1000,figsize=(30,5),range=(0,1000)) #3 std ~= 3500\n"
   ]
  },
  {
   "cell_type": "code",
   "execution_count": 9,
   "metadata": {},
   "outputs": [
    {
     "data": {
      "text/plain": [
       "<matplotlib.axes._subplots.AxesSubplot at 0x21fcd181518>"
      ]
     },
     "execution_count": 9,
     "metadata": {},
     "output_type": "execute_result"
    },
    {
     "data": {
      "image/png": "[encoded data removed]",
      "text/plain": [
       "<Figure size 432x288 with 1 Axes>"
      ]
     },
     "metadata": {
      "needs_background": "light"
     },
     "output_type": "display_data"
    }
   ],
   "source": [
    "claimdata.boxplot(column='ClaimAmount',showfliers=False)"
   ]
  },
  {
   "cell_type": "code",
   "execution_count": 10,
   "metadata": {},
   "outputs": [
    {
     "data": {
      "image/png": "[encoded data removed]",
      "text/plain": [
       "<Figure size 2160x360 with 1 Axes>"
      ]
     },
     "metadata": {
      "needs_background": "light"
     },
     "output_type": "display_data"
    }
   ],
   "source": [
    "temp = claimdata\n",
    "#reset dates for sorting\n",
    "temp.ClaimDate = pd.to_datetime(temp.ClaimDate)\n",
    "temp.sort_index(inplace=True)\n",
    "temp.ClaimDate.hist(figsize=(30,5),grid=False, bins=len(temp.ClaimDate.unique()))\n",
    "plt.xticks(rotation='vertical')\n",
    "plt.show()\n",
    "\n",
    "#NOTE, Year must stay\n",
    "#NOTE, must reset strftime dates?"
   ]
  },
  {
   "cell_type": "code",
   "execution_count": 11,
   "metadata": {},
   "outputs": [
    {
     "data": {
      "text/plain": [
       "False"
      ]
     },
     "execution_count": 11,
     "metadata": {},
     "output_type": "execute_result"
    }
   ],
   "source": [
    "claimdata['ClaimDate'].isnull().values.any()"
   ]
  },
  {
   "cell_type": "code",
   "execution_count": 12,
   "metadata": {},
   "outputs": [
    {
     "data": {
      "text/plain": [
       "<matplotlib.axes._subplots.AxesSubplot at 0x21fcd3296a0>"
      ]
     },
     "execution_count": 12,
     "metadata": {},
     "output_type": "execute_result"
    },
    {
     "data": {
      "image/png": "[encoded data removed]",
      "text/plain": [
       "<Figure size 2160x360 with 1 Axes>"
      ]
     },
     "metadata": {
      "needs_background": "light"
     },
     "output_type": "display_data"
    }
   ],
   "source": [
    "temp.plot(x='ClaimDate',y='ClaimAmount',style='.',figsize=(30,5),ylim=(0,1000))\n",
    "#NOTE, must reset strftime dates?"
   ]
  },
  {
   "cell_type": "code",
   "execution_count": 13,
   "metadata": {},
   "outputs": [
    {
     "data": {
      "image/png": "[encoded data removed]",
      "text/plain": [
       "<Figure size 432x288 with 1 Axes>"
      ]
     },
     "metadata": {
      "needs_background": "light"
     },
     "output_type": "display_data"
    },
    {
     "data": {
      "image/png": "[encoded data removed]",
      "text/plain": [
       "<Figure size 432x288 with 1 Axes>"
      ]
     },
     "metadata": {
      "needs_background": "light"
     },
     "output_type": "display_data"
    }
   ],
   "source": [
    "#set date as index\n",
    "temp.set_index('ClaimDate')\n",
    "temp = temp['ClaimAmount']\n",
    "plot_acf(temp,lags=5)\n",
    "plot_pacf(temp,lags=5)\n",
    "plt.show()"
   ]
  },
  {
   "cell_type": "code",
   "execution_count": 14,
   "metadata": {},
   "outputs": [],
   "source": [
    "claimdata['ClaimDate'] = claimdata['ClaimDate'].dt.strftime('%b %Y')"
   ]
  },
  {
   "cell_type": "markdown",
   "metadata": {},
   "source": [
    "<h1>Pet Data</h1>"
   ]
  },
  {
   "cell_type": "code",
   "execution_count": 15,
   "metadata": {},
   "outputs": [],
   "source": [
    "petdata=pd.read_csv('petdata.csv')"
   ]
  },
  {
   "cell_type": "code",
   "execution_count": 16,
   "metadata": {},
   "outputs": [
    {
     "name": "stdout",
     "output_type": "stream",
     "text": [
      "<class 'pandas.core.frame.DataFrame'>\n",
      "RangeIndex: 10000 entries, 0 to 9999\n",
      "Data columns (total 6 columns):\n",
      "PetId          10000 non-null int64\n",
      "EnrollDate     10000 non-null object\n",
      "CancelDate     10000 non-null object\n",
      "Species        10000 non-null category\n",
      "Breed          10000 non-null category\n",
      "AgeAtEnroll    10000 non-null category\n",
      "dtypes: category(3), int64(1), object(2)\n",
      "memory usage: 264.8+ KB\n"
     ]
    }
   ],
   "source": [
    "petdata['EnrollDate'] =  pd.to_datetime(petdata['EnrollDate'])\n",
    "petdata['CancelDate'] =  pd.to_datetime(petdata['CancelDate'])\n",
    "petdata['EnrollDate'] = petdata['EnrollDate'].dt.strftime('%b %Y')\n",
    "petdata['CancelDate'] = petdata['CancelDate'].dt.strftime('%b %Y')\n",
    "\n",
    "#NOTE, if CancelDate != NaT ==> prediction == 0\n",
    "#Note, ~= 50% are closed accounts\n",
    "\n",
    "#petdata.query('CancelDate == \"NaT\"')\n",
    "\n",
    "#Data to Categorical\n",
    "petdata['Species'] = petdata['Species'].astype('category')\n",
    "petdata['AgeAtEnroll'] = petdata['AgeAtEnroll'].astype('category')\n",
    "petdata['Breed'] = petdata['Breed'].astype('category')\n",
    "petdata.info()\n"
   ]
  },
  {
   "cell_type": "code",
   "execution_count": 18,
   "metadata": {},
   "outputs": [
    {
     "data": {
      "text/plain": [
       "<matplotlib.axes._subplots.AxesSubplot at 0x21fceae2e80>"
      ]
     },
     "execution_count": 18,
     "metadata": {},
     "output_type": "execute_result"
    },
    {
     "data": {
      "image/png": "[encoded data removed]",
      "text/plain": [
       "<Figure size 1800x360 with 1 Axes>"
      ]
     },
     "metadata": {
      "needs_background": "light"
     },
     "output_type": "display_data"
    }
   ],
   "source": [
    "\n",
    "plt.xticks(rotation='vertical')\n",
    "petdata['AgeAtEnroll'].hist(figsize=(25,5),bins=(len(petdata.AgeAtEnroll.unique())))\n"
   ]
  },
  {
   "cell_type": "markdown",
   "metadata": {},
   "source": [
    "https://keras-pandas.readthedocs.io/en/latest/autosummary/data_types.Categorical.Categorical.html\n",
    "    https://pandas.pydata.org/pandas-docs/stable/user_guide/categorical.html"
   ]
  },
  {
   "cell_type": "code",
   "execution_count": 19,
   "metadata": {},
   "outputs": [
    {
     "data": {
      "text/plain": [
       "<matplotlib.axes._subplots.AxesSubplot at 0x21fcf29e9b0>"
      ]
     },
     "execution_count": 19,
     "metadata": {},
     "output_type": "execute_result"
    },
    {
     "data": {
      "image/png": "[encoded data removed]",
      "text/plain": [
       "<Figure size 1800x360 with 1 Axes>"
      ]
     },
     "metadata": {
      "needs_background": "light"
     },
     "output_type": "display_data"
    }
   ],
   "source": [
    "enroll_temp = petdata\n",
    "#reset dates for sorting\n",
    "enroll_temp.EnrollDate = pd.to_datetime(enroll_temp.EnrollDate)\n",
    "enroll_temp.sort_index(inplace=True)\n",
    "plt.xticks(rotation='vertical')\n",
    "petdata['EnrollDate'].hist(figsize=(25,5),bins=(len(enroll_temp.EnrollDate.unique())))\n"
   ]
  },
  {
   "cell_type": "code",
   "execution_count": 20,
   "metadata": {},
   "outputs": [
    {
     "data": {
      "text/html": [
       "<div>\n",
       "<style scoped>\n",
       "    .dataframe tbody tr th:only-of-type {\n",
       "        vertical-align: middle;\n",
       "    }\n",
       "\n",
       "    .dataframe tbody tr th {\n",
       "        vertical-align: top;\n",
       "    }\n",
       "\n",
       "    .dataframe thead th {\n",
       "        text-align: right;\n",
       "    }\n",
       "</style>\n",
       "<table border=\"1\" class=\"dataframe\">\n",
       "  <thead>\n",
       "    <tr style=\"text-align: right;\">\n",
       "      <th></th>\n",
       "      <th>PetId</th>\n",
       "      <th>EnrollDate</th>\n",
       "      <th>CancelDate</th>\n",
       "      <th>Species</th>\n",
       "      <th>Breed</th>\n",
       "      <th>AgeAtEnroll</th>\n",
       "    </tr>\n",
       "  </thead>\n",
       "  <tbody>\n",
       "    <tr>\n",
       "      <th>0</th>\n",
       "      <td>0</td>\n",
       "      <td>Aug 2015</td>\n",
       "      <td>Jul 2018</td>\n",
       "      <td>Dog</td>\n",
       "      <td>Mixed Breed</td>\n",
       "      <td>5 years old</td>\n",
       "    </tr>\n",
       "    <tr>\n",
       "      <th>1</th>\n",
       "      <td>1</td>\n",
       "      <td>Feb 2014</td>\n",
       "      <td>Jan 2016</td>\n",
       "      <td>Cat</td>\n",
       "      <td>Mixed Breed</td>\n",
       "      <td>3 years old</td>\n",
       "    </tr>\n",
       "    <tr>\n",
       "      <th>2</th>\n",
       "      <td>2</td>\n",
       "      <td>Dec 2014</td>\n",
       "      <td>NaT</td>\n",
       "      <td>Dog</td>\n",
       "      <td>French Bulldog</td>\n",
       "      <td>8 weeks to 12 months old</td>\n",
       "    </tr>\n",
       "    <tr>\n",
       "      <th>3</th>\n",
       "      <td>3</td>\n",
       "      <td>Jan 2015</td>\n",
       "      <td>Jan 2015</td>\n",
       "      <td>Dog</td>\n",
       "      <td>Mixed Breed</td>\n",
       "      <td>1 year old</td>\n",
       "    </tr>\n",
       "    <tr>\n",
       "      <th>4</th>\n",
       "      <td>4</td>\n",
       "      <td>Jul 2014</td>\n",
       "      <td>NaT</td>\n",
       "      <td>Cat</td>\n",
       "      <td>Mixed Breed</td>\n",
       "      <td>8 weeks to 12 months old</td>\n",
       "    </tr>\n",
       "    <tr>\n",
       "      <th>...</th>\n",
       "      <td>...</td>\n",
       "      <td>...</td>\n",
       "      <td>...</td>\n",
       "      <td>...</td>\n",
       "      <td>...</td>\n",
       "      <td>...</td>\n",
       "    </tr>\n",
       "    <tr>\n",
       "      <th>9995</th>\n",
       "      <td>9995</td>\n",
       "      <td>Feb 2019</td>\n",
       "      <td>NaT</td>\n",
       "      <td>Cat</td>\n",
       "      <td>Mixed Breed</td>\n",
       "      <td>6 years old</td>\n",
       "    </tr>\n",
       "    <tr>\n",
       "      <th>9996</th>\n",
       "      <td>9996</td>\n",
       "      <td>Dec 2016</td>\n",
       "      <td>Dec 2018</td>\n",
       "      <td>Cat</td>\n",
       "      <td>Mixed Breed</td>\n",
       "      <td>8 weeks to 12 months old</td>\n",
       "    </tr>\n",
       "    <tr>\n",
       "      <th>9997</th>\n",
       "      <td>9997</td>\n",
       "      <td>Jan 2015</td>\n",
       "      <td>Mar 2015</td>\n",
       "      <td>Dog</td>\n",
       "      <td>Mixed Breed</td>\n",
       "      <td>8 weeks to 12 months old</td>\n",
       "    </tr>\n",
       "    <tr>\n",
       "      <th>9998</th>\n",
       "      <td>9998</td>\n",
       "      <td>Nov 2015</td>\n",
       "      <td>NaT</td>\n",
       "      <td>Cat</td>\n",
       "      <td>Mixed Breed</td>\n",
       "      <td>8 weeks to 12 months old</td>\n",
       "    </tr>\n",
       "    <tr>\n",
       "      <th>9999</th>\n",
       "      <td>9999</td>\n",
       "      <td>Mar 2016</td>\n",
       "      <td>Jun 2018</td>\n",
       "      <td>Cat</td>\n",
       "      <td>Mixed Breed</td>\n",
       "      <td>3 years old</td>\n",
       "    </tr>\n",
       "  </tbody>\n",
       "</table>\n",
       "<p>10000 rows × 6 columns</p>\n",
       "</div>"
      ],
      "text/plain": [
       "      PetId EnrollDate CancelDate Species           Breed  \\\n",
       "0         0   Aug 2015   Jul 2018     Dog     Mixed Breed   \n",
       "1         1   Feb 2014   Jan 2016     Cat     Mixed Breed   \n",
       "2         2   Dec 2014        NaT     Dog  French Bulldog   \n",
       "3         3   Jan 2015   Jan 2015     Dog     Mixed Breed   \n",
       "4         4   Jul 2014        NaT     Cat     Mixed Breed   \n",
       "...     ...        ...        ...     ...             ...   \n",
       "9995   9995   Feb 2019        NaT     Cat     Mixed Breed   \n",
       "9996   9996   Dec 2016   Dec 2018     Cat     Mixed Breed   \n",
       "9997   9997   Jan 2015   Mar 2015     Dog     Mixed Breed   \n",
       "9998   9998   Nov 2015        NaT     Cat     Mixed Breed   \n",
       "9999   9999   Mar 2016   Jun 2018     Cat     Mixed Breed   \n",
       "\n",
       "                   AgeAtEnroll  \n",
       "0                  5 years old  \n",
       "1                  3 years old  \n",
       "2     8 weeks to 12 months old  \n",
       "3                   1 year old  \n",
       "4     8 weeks to 12 months old  \n",
       "...                        ...  \n",
       "9995               6 years old  \n",
       "9996  8 weeks to 12 months old  \n",
       "9997  8 weeks to 12 months old  \n",
       "9998  8 weeks to 12 months old  \n",
       "9999               3 years old  \n",
       "\n",
       "[10000 rows x 6 columns]"
      ]
     },
     "execution_count": 20,
     "metadata": {},
     "output_type": "execute_result"
    }
   ],
   "source": [
    "petdata['EnrollDate'] = petdata['EnrollDate'].dt.strftime('%b %Y')\n",
    "petdata"
   ]
  },
  {
   "cell_type": "code",
   "execution_count": 21,
   "metadata": {},
   "outputs": [
    {
     "data": {
      "text/plain": [
       "<matplotlib.axes._subplots.AxesSubplot at 0x21fcf3bb9e8>"
      ]
     },
     "execution_count": 21,
     "metadata": {},
     "output_type": "execute_result"
    },
    {
     "data": {
      "image/png": "[encoded data removed]",
      "text/plain": [
       "<Figure size 1080x360 with 1 Axes>"
      ]
     },
     "metadata": {
      "needs_background": "light"
     },
     "output_type": "display_data"
    }
   ],
   "source": [
    "petdata['Species'].hist(figsize=(15,5),bins=(len(petdata.Species.unique())))"
   ]
  },
  {
   "cell_type": "code",
   "execution_count": 22,
   "metadata": {},
   "outputs": [
    {
     "data": {
      "text/plain": [
       "<matplotlib.axes._subplots.AxesSubplot at 0x21fcf49fc18>"
      ]
     },
     "execution_count": 22,
     "metadata": {},
     "output_type": "execute_result"
    },
    {
     "data": {
      "image/png": "[encoded data removed]",
      "text/plain": [
       "<Figure size 1440x360 with 1 Axes>"
      ]
     },
     "metadata": {
      "needs_background": "light"
     },
     "output_type": "display_data"
    }
   ],
   "source": [
    "petdata['Breed'].hist(figsize=(20,5),bins=(len(petdata.Breed.unique())))"
   ]
  },
  {
   "cell_type": "markdown",
   "metadata": {},
   "source": [
    "<h2>Balancing classes</h2>\n",
    "<p>Breed and AgeAtEnroll are imbalanced</p>\n",
    "<p>Options: <br>\n",
    "Downsample (Concern for amount of data) <br>\n",
    "Up sample (overfitting) <br>\n",
    "Stick with random forests... (may not be accurate) <br>\n",
    "PCA/Clustering to remove??</p>"
   ]
  },
  {
   "cell_type": "markdown",
   "metadata": {},
   "source": [
    "<h2>Combine Datasets</h2>"
   ]
  },
  {
   "cell_type": "code",
   "execution_count": 160,
   "metadata": {},
   "outputs": [],
   "source": [
    "claim = claimdata.set_index('PetId')\n",
    "pet = petdata.set_index('PetId')"
   ]
  },
  {
   "cell_type": "code",
   "execution_count": 161,
   "metadata": {},
   "outputs": [
    {
     "data": {
      "text/html": [
       "<div>\n",
       "<style scoped>\n",
       "    .dataframe tbody tr th:only-of-type {\n",
       "        vertical-align: middle;\n",
       "    }\n",
       "\n",
       "    .dataframe tbody tr th {\n",
       "        vertical-align: top;\n",
       "    }\n",
       "\n",
       "    .dataframe thead th {\n",
       "        text-align: right;\n",
       "    }\n",
       "</style>\n",
       "<table border=\"1\" class=\"dataframe\">\n",
       "  <thead>\n",
       "    <tr style=\"text-align: right;\">\n",
       "      <th></th>\n",
       "      <th>PetId</th>\n",
       "      <th>EnrollDate</th>\n",
       "      <th>CancelDate</th>\n",
       "      <th>Species</th>\n",
       "      <th>Breed</th>\n",
       "      <th>AgeAtEnroll</th>\n",
       "    </tr>\n",
       "  </thead>\n",
       "  <tbody>\n",
       "    <tr>\n",
       "      <th>0</th>\n",
       "      <td>0</td>\n",
       "      <td>Aug 2015</td>\n",
       "      <td>Jul 2018</td>\n",
       "      <td>Dog</td>\n",
       "      <td>Mixed Breed</td>\n",
       "      <td>5 years old</td>\n",
       "    </tr>\n",
       "    <tr>\n",
       "      <th>1</th>\n",
       "      <td>1</td>\n",
       "      <td>Feb 2014</td>\n",
       "      <td>Jan 2016</td>\n",
       "      <td>Cat</td>\n",
       "      <td>Mixed Breed</td>\n",
       "      <td>3 years old</td>\n",
       "    </tr>\n",
       "    <tr>\n",
       "      <th>2</th>\n",
       "      <td>2</td>\n",
       "      <td>Dec 2014</td>\n",
       "      <td>NaT</td>\n",
       "      <td>Dog</td>\n",
       "      <td>French Bulldog</td>\n",
       "      <td>8 weeks to 12 months old</td>\n",
       "    </tr>\n",
       "    <tr>\n",
       "      <th>3</th>\n",
       "      <td>3</td>\n",
       "      <td>Jan 2015</td>\n",
       "      <td>Jan 2015</td>\n",
       "      <td>Dog</td>\n",
       "      <td>Mixed Breed</td>\n",
       "      <td>1 year old</td>\n",
       "    </tr>\n",
       "    <tr>\n",
       "      <th>4</th>\n",
       "      <td>4</td>\n",
       "      <td>Jul 2014</td>\n",
       "      <td>NaT</td>\n",
       "      <td>Cat</td>\n",
       "      <td>Mixed Breed</td>\n",
       "      <td>8 weeks to 12 months old</td>\n",
       "    </tr>\n",
       "    <tr>\n",
       "      <th>...</th>\n",
       "      <td>...</td>\n",
       "      <td>...</td>\n",
       "      <td>...</td>\n",
       "      <td>...</td>\n",
       "      <td>...</td>\n",
       "      <td>...</td>\n",
       "    </tr>\n",
       "    <tr>\n",
       "      <th>9995</th>\n",
       "      <td>9995</td>\n",
       "      <td>Feb 2019</td>\n",
       "      <td>NaT</td>\n",
       "      <td>Cat</td>\n",
       "      <td>Mixed Breed</td>\n",
       "      <td>6 years old</td>\n",
       "    </tr>\n",
       "    <tr>\n",
       "      <th>9996</th>\n",
       "      <td>9996</td>\n",
       "      <td>Dec 2016</td>\n",
       "      <td>Dec 2018</td>\n",
       "      <td>Cat</td>\n",
       "      <td>Mixed Breed</td>\n",
       "      <td>8 weeks to 12 months old</td>\n",
       "    </tr>\n",
       "    <tr>\n",
       "      <th>9997</th>\n",
       "      <td>9997</td>\n",
       "      <td>Jan 2015</td>\n",
       "      <td>Mar 2015</td>\n",
       "      <td>Dog</td>\n",
       "      <td>Mixed Breed</td>\n",
       "      <td>8 weeks to 12 months old</td>\n",
       "    </tr>\n",
       "    <tr>\n",
       "      <th>9998</th>\n",
       "      <td>9998</td>\n",
       "      <td>Nov 2015</td>\n",
       "      <td>NaT</td>\n",
       "      <td>Cat</td>\n",
       "      <td>Mixed Breed</td>\n",
       "      <td>8 weeks to 12 months old</td>\n",
       "    </tr>\n",
       "    <tr>\n",
       "      <th>9999</th>\n",
       "      <td>9999</td>\n",
       "      <td>Mar 2016</td>\n",
       "      <td>Jun 2018</td>\n",
       "      <td>Cat</td>\n",
       "      <td>Mixed Breed</td>\n",
       "      <td>3 years old</td>\n",
       "    </tr>\n",
       "  </tbody>\n",
       "</table>\n",
       "<p>10000 rows × 6 columns</p>\n",
       "</div>"
      ],
      "text/plain": [
       "      PetId EnrollDate CancelDate Species           Breed  \\\n",
       "0         0   Aug 2015   Jul 2018     Dog     Mixed Breed   \n",
       "1         1   Feb 2014   Jan 2016     Cat     Mixed Breed   \n",
       "2         2   Dec 2014        NaT     Dog  French Bulldog   \n",
       "3         3   Jan 2015   Jan 2015     Dog     Mixed Breed   \n",
       "4         4   Jul 2014        NaT     Cat     Mixed Breed   \n",
       "...     ...        ...        ...     ...             ...   \n",
       "9995   9995   Feb 2019        NaT     Cat     Mixed Breed   \n",
       "9996   9996   Dec 2016   Dec 2018     Cat     Mixed Breed   \n",
       "9997   9997   Jan 2015   Mar 2015     Dog     Mixed Breed   \n",
       "9998   9998   Nov 2015        NaT     Cat     Mixed Breed   \n",
       "9999   9999   Mar 2016   Jun 2018     Cat     Mixed Breed   \n",
       "\n",
       "                   AgeAtEnroll  \n",
       "0                  5 years old  \n",
       "1                  3 years old  \n",
       "2     8 weeks to 12 months old  \n",
       "3                   1 year old  \n",
       "4     8 weeks to 12 months old  \n",
       "...                        ...  \n",
       "9995               6 years old  \n",
       "9996  8 weeks to 12 months old  \n",
       "9997  8 weeks to 12 months old  \n",
       "9998  8 weeks to 12 months old  \n",
       "9999               3 years old  \n",
       "\n",
       "[10000 rows x 6 columns]"
      ]
     },
     "execution_count": 161,
     "metadata": {},
     "output_type": "execute_result"
    }
   ],
   "source": [
    "petdata"
   ]
  },
  {
   "cell_type": "code",
   "execution_count": 162,
   "metadata": {},
   "outputs": [
    {
     "data": {
      "text/html": [
       "<div>\n",
       "<style scoped>\n",
       "    .dataframe tbody tr th:only-of-type {\n",
       "        vertical-align: middle;\n",
       "    }\n",
       "\n",
       "    .dataframe tbody tr th {\n",
       "        vertical-align: top;\n",
       "    }\n",
       "\n",
       "    .dataframe thead th {\n",
       "        text-align: right;\n",
       "    }\n",
       "</style>\n",
       "<table border=\"1\" class=\"dataframe\">\n",
       "  <thead>\n",
       "    <tr style=\"text-align: right;\">\n",
       "      <th></th>\n",
       "      <th>ClaimDate</th>\n",
       "      <th>ClaimId</th>\n",
       "      <th>ClaimAmount</th>\n",
       "      <th>EnrollDate</th>\n",
       "      <th>CancelDate</th>\n",
       "      <th>Species</th>\n",
       "      <th>Breed</th>\n",
       "      <th>AgeAtEnroll</th>\n",
       "    </tr>\n",
       "    <tr>\n",
       "      <th>PetId</th>\n",
       "      <th></th>\n",
       "      <th></th>\n",
       "      <th></th>\n",
       "      <th></th>\n",
       "      <th></th>\n",
       "      <th></th>\n",
       "      <th></th>\n",
       "      <th></th>\n",
       "    </tr>\n",
       "  </thead>\n",
       "  <tbody>\n",
       "    <tr>\n",
       "      <th>2</th>\n",
       "      <td>Apr 2018</td>\n",
       "      <td>24729</td>\n",
       "      <td>346.61</td>\n",
       "      <td>Dec 2014</td>\n",
       "      <td>NaT</td>\n",
       "      <td>Dog</td>\n",
       "      <td>French Bulldog</td>\n",
       "      <td>8 weeks to 12 months old</td>\n",
       "    </tr>\n",
       "    <tr>\n",
       "      <th>2</th>\n",
       "      <td>Aug 2018</td>\n",
       "      <td>13987</td>\n",
       "      <td>190.69</td>\n",
       "      <td>Dec 2014</td>\n",
       "      <td>NaT</td>\n",
       "      <td>Dog</td>\n",
       "      <td>French Bulldog</td>\n",
       "      <td>8 weeks to 12 months old</td>\n",
       "    </tr>\n",
       "    <tr>\n",
       "      <th>2</th>\n",
       "      <td>Dec 2015</td>\n",
       "      <td>35612</td>\n",
       "      <td>75.32</td>\n",
       "      <td>Dec 2014</td>\n",
       "      <td>NaT</td>\n",
       "      <td>Dog</td>\n",
       "      <td>French Bulldog</td>\n",
       "      <td>8 weeks to 12 months old</td>\n",
       "    </tr>\n",
       "    <tr>\n",
       "      <th>2</th>\n",
       "      <td>Dec 2017</td>\n",
       "      <td>35613</td>\n",
       "      <td>567.32</td>\n",
       "      <td>Dec 2014</td>\n",
       "      <td>NaT</td>\n",
       "      <td>Dog</td>\n",
       "      <td>French Bulldog</td>\n",
       "      <td>8 weeks to 12 months old</td>\n",
       "    </tr>\n",
       "    <tr>\n",
       "      <th>2</th>\n",
       "      <td>Feb 2018</td>\n",
       "      <td>7633</td>\n",
       "      <td>82.80</td>\n",
       "      <td>Dec 2014</td>\n",
       "      <td>NaT</td>\n",
       "      <td>Dog</td>\n",
       "      <td>French Bulldog</td>\n",
       "      <td>8 weeks to 12 months old</td>\n",
       "    </tr>\n",
       "    <tr>\n",
       "      <th>...</th>\n",
       "      <td>...</td>\n",
       "      <td>...</td>\n",
       "      <td>...</td>\n",
       "      <td>...</td>\n",
       "      <td>...</td>\n",
       "      <td>...</td>\n",
       "      <td>...</td>\n",
       "      <td>...</td>\n",
       "    </tr>\n",
       "    <tr>\n",
       "      <th>9998</th>\n",
       "      <td>Dec 2016</td>\n",
       "      <td>35689</td>\n",
       "      <td>5939.08</td>\n",
       "      <td>Nov 2015</td>\n",
       "      <td>NaT</td>\n",
       "      <td>Cat</td>\n",
       "      <td>Mixed Breed</td>\n",
       "      <td>8 weeks to 12 months old</td>\n",
       "    </tr>\n",
       "    <tr>\n",
       "      <th>9998</th>\n",
       "      <td>Jul 2016</td>\n",
       "      <td>6869</td>\n",
       "      <td>299.62</td>\n",
       "      <td>Nov 2015</td>\n",
       "      <td>NaT</td>\n",
       "      <td>Cat</td>\n",
       "      <td>Mixed Breed</td>\n",
       "      <td>8 weeks to 12 months old</td>\n",
       "    </tr>\n",
       "    <tr>\n",
       "      <th>9998</th>\n",
       "      <td>Mar 2016</td>\n",
       "      <td>3260</td>\n",
       "      <td>587.73</td>\n",
       "      <td>Nov 2015</td>\n",
       "      <td>NaT</td>\n",
       "      <td>Cat</td>\n",
       "      <td>Mixed Breed</td>\n",
       "      <td>8 weeks to 12 months old</td>\n",
       "    </tr>\n",
       "    <tr>\n",
       "      <th>9998</th>\n",
       "      <td>May 2016</td>\n",
       "      <td>35401</td>\n",
       "      <td>123.75</td>\n",
       "      <td>Nov 2015</td>\n",
       "      <td>NaT</td>\n",
       "      <td>Cat</td>\n",
       "      <td>Mixed Breed</td>\n",
       "      <td>8 weeks to 12 months old</td>\n",
       "    </tr>\n",
       "    <tr>\n",
       "      <th>9998</th>\n",
       "      <td>Nov 2018</td>\n",
       "      <td>52979</td>\n",
       "      <td>707.25</td>\n",
       "      <td>Nov 2015</td>\n",
       "      <td>NaT</td>\n",
       "      <td>Cat</td>\n",
       "      <td>Mixed Breed</td>\n",
       "      <td>8 weeks to 12 months old</td>\n",
       "    </tr>\n",
       "  </tbody>\n",
       "</table>\n",
       "<p>22700 rows × 8 columns</p>\n",
       "</div>"
      ],
      "text/plain": [
       "      ClaimDate  ClaimId  ClaimAmount EnrollDate CancelDate Species  \\\n",
       "PetId                                                                 \n",
       "2      Apr 2018    24729       346.61   Dec 2014        NaT     Dog   \n",
       "2      Aug 2018    13987       190.69   Dec 2014        NaT     Dog   \n",
       "2      Dec 2015    35612        75.32   Dec 2014        NaT     Dog   \n",
       "2      Dec 2017    35613       567.32   Dec 2014        NaT     Dog   \n",
       "2      Feb 2018     7633        82.80   Dec 2014        NaT     Dog   \n",
       "...         ...      ...          ...        ...        ...     ...   \n",
       "9998   Dec 2016    35689      5939.08   Nov 2015        NaT     Cat   \n",
       "9998   Jul 2016     6869       299.62   Nov 2015        NaT     Cat   \n",
       "9998   Mar 2016     3260       587.73   Nov 2015        NaT     Cat   \n",
       "9998   May 2016    35401       123.75   Nov 2015        NaT     Cat   \n",
       "9998   Nov 2018    52979       707.25   Nov 2015        NaT     Cat   \n",
       "\n",
       "                Breed               AgeAtEnroll  \n",
       "PetId                                            \n",
       "2      French Bulldog  8 weeks to 12 months old  \n",
       "2      French Bulldog  8 weeks to 12 months old  \n",
       "2      French Bulldog  8 weeks to 12 months old  \n",
       "2      French Bulldog  8 weeks to 12 months old  \n",
       "2      French Bulldog  8 weeks to 12 months old  \n",
       "...               ...                       ...  \n",
       "9998      Mixed Breed  8 weeks to 12 months old  \n",
       "9998      Mixed Breed  8 weeks to 12 months old  \n",
       "9998      Mixed Breed  8 weeks to 12 months old  \n",
       "9998      Mixed Breed  8 weeks to 12 months old  \n",
       "9998      Mixed Breed  8 weeks to 12 months old  \n",
       "\n",
       "[22700 rows x 8 columns]"
      ]
     },
     "execution_count": 162,
     "metadata": {},
     "output_type": "execute_result"
    }
   ],
   "source": [
    "training = claim.join(pet,on='PetId')\n",
    "training"
   ]
  },
  {
   "cell_type": "code",
   "execution_count": 159,
   "metadata": {},
   "outputs": [
    {
     "data": {
      "text/plain": [
       "array([ 2,  5,  3,  1,  9, 11,  0,  8,  4,  7,  6, 10, 14, 12, 13],\n",
       "      dtype=int64)"
      ]
     },
     "execution_count": 159,
     "metadata": {},
     "output_type": "execute_result"
    }
   ],
   "source": [
    "#NOTE: Encodes first class with 0. Unsure of the effect\n",
    "\n",
    "from sklearn.preprocessing import LabelEncoder\n",
    "\n",
    "train_enc = training\n",
    "\n",
    "lb_make = LabelEncoder()\n",
    "train_enc[\"Breed\"] = lb_make.fit_transform(train_enc[\"Breed\"])\n",
    "train_enc[\"Species\"] = lb_make.fit_transform(train_enc[\"Species\"])\n",
    "train_enc[\"AgeAtEnroll\"] = lb_make.fit_transform(train_enc[\"AgeAtEnroll\"])\n",
    "train_enc.AgeAtEnroll.unique()"
   ]
  },
  {
   "cell_type": "code",
   "execution_count": 43,
   "metadata": {},
   "outputs": [],
   "source": [
    "cleanup = {'Breed':{'Mixed Breed':1,'French Bulldog':2,'Chihuahua':3,'Golden Retriever':4,'Great Dane':5,'Ragdoll':6},\n",
    "          'Species':{'Dog':1,'Cat':2},\n",
    "           'AgeAtEnroll': {'5 years old': 1,\n",
    "  '3 years old': 2,\n",
    "  '8 weeks to 12 months old': 3,\n",
    "  '1 year old': 4,\n",
    "  '4 years old': 5,\n",
    "  '7 years old': 6,\n",
    "  '10 years old': 7,\n",
    "  '9 years old': 8,\n",
    "  '2 years old': 9,\n",
    "  '8 years old': 10,\n",
    "  '6 years old': 11,\n",
    "  '11 years old': 12,\n",
    "  '0-7 weeks old': 13,\n",
    "  '13 years old': 14,\n",
    "  '12 years old': 15}}\n",
    "\n",
    "train_enc = training.replace(cleanup)\n",
    "train_enc.info()"
   ]
  },
  {
   "cell_type": "code",
   "execution_count": 165,
   "metadata": {},
   "outputs": [],
   "source": [
    "#Helper function to make dates trainable\n",
    "\n",
    "def date_features(df,date_col):\n",
    "    df[date_col] =  pd.to_datetime(df[date_col])\n",
    "    df[(date_col+'_m')] = df[date_col].dt.month\n",
    "    df[(date_col+'_Y')] = df[date_col].dt.year\n",
    "    df[(date_col+'_q')] = df[date_col].dt.quarter\n",
    "    df = df.drop(columns=date_col)\n",
    "    \n",
    "    return(df)\n",
    "train_enc = date_features(train_enc,'ClaimDate')\n",
    "train_enc = date_features(train_enc,'EnrollDate')\n",
    "train_enc = train_enc.drop(columns='CancelDate')"
   ]
  },
  {
   "cell_type": "code",
   "execution_count": 170,
   "metadata": {},
   "outputs": [
    {
     "data": {
      "text/html": [
       "<div>\n",
       "<style scoped>\n",
       "    .dataframe tbody tr th:only-of-type {\n",
       "        vertical-align: middle;\n",
       "    }\n",
       "\n",
       "    .dataframe tbody tr th {\n",
       "        vertical-align: top;\n",
       "    }\n",
       "\n",
       "    .dataframe thead th {\n",
       "        text-align: right;\n",
       "    }\n",
       "</style>\n",
       "<table border=\"1\" class=\"dataframe\">\n",
       "  <thead>\n",
       "    <tr style=\"text-align: right;\">\n",
       "      <th></th>\n",
       "      <th>ClaimId</th>\n",
       "      <th>ClaimAmount</th>\n",
       "      <th>Species</th>\n",
       "      <th>Breed</th>\n",
       "      <th>AgeAtEnroll</th>\n",
       "      <th>ClaimDate_m</th>\n",
       "      <th>ClaimDate_Y</th>\n",
       "      <th>ClaimDate_q</th>\n",
       "      <th>EnrollDate_m</th>\n",
       "      <th>EnrollDate_Y</th>\n",
       "      <th>EnrollDate_q</th>\n",
       "    </tr>\n",
       "    <tr>\n",
       "      <th>PetId</th>\n",
       "      <th></th>\n",
       "      <th></th>\n",
       "      <th></th>\n",
       "      <th></th>\n",
       "      <th></th>\n",
       "      <th></th>\n",
       "      <th></th>\n",
       "      <th></th>\n",
       "      <th></th>\n",
       "      <th></th>\n",
       "      <th></th>\n",
       "    </tr>\n",
       "  </thead>\n",
       "  <tbody>\n",
       "    <tr>\n",
       "      <th>2</th>\n",
       "      <td>24729</td>\n",
       "      <td>346.61</td>\n",
       "      <td>1</td>\n",
       "      <td>2</td>\n",
       "      <td>3</td>\n",
       "      <td>4</td>\n",
       "      <td>2018</td>\n",
       "      <td>2</td>\n",
       "      <td>12</td>\n",
       "      <td>2014</td>\n",
       "      <td>4</td>\n",
       "    </tr>\n",
       "    <tr>\n",
       "      <th>2</th>\n",
       "      <td>13987</td>\n",
       "      <td>190.69</td>\n",
       "      <td>1</td>\n",
       "      <td>2</td>\n",
       "      <td>3</td>\n",
       "      <td>8</td>\n",
       "      <td>2018</td>\n",
       "      <td>3</td>\n",
       "      <td>12</td>\n",
       "      <td>2014</td>\n",
       "      <td>4</td>\n",
       "    </tr>\n",
       "    <tr>\n",
       "      <th>2</th>\n",
       "      <td>35612</td>\n",
       "      <td>75.32</td>\n",
       "      <td>1</td>\n",
       "      <td>2</td>\n",
       "      <td>3</td>\n",
       "      <td>12</td>\n",
       "      <td>2015</td>\n",
       "      <td>4</td>\n",
       "      <td>12</td>\n",
       "      <td>2014</td>\n",
       "      <td>4</td>\n",
       "    </tr>\n",
       "    <tr>\n",
       "      <th>2</th>\n",
       "      <td>35613</td>\n",
       "      <td>567.32</td>\n",
       "      <td>1</td>\n",
       "      <td>2</td>\n",
       "      <td>3</td>\n",
       "      <td>12</td>\n",
       "      <td>2017</td>\n",
       "      <td>4</td>\n",
       "      <td>12</td>\n",
       "      <td>2014</td>\n",
       "      <td>4</td>\n",
       "    </tr>\n",
       "    <tr>\n",
       "      <th>2</th>\n",
       "      <td>7633</td>\n",
       "      <td>82.80</td>\n",
       "      <td>1</td>\n",
       "      <td>2</td>\n",
       "      <td>3</td>\n",
       "      <td>2</td>\n",
       "      <td>2018</td>\n",
       "      <td>1</td>\n",
       "      <td>12</td>\n",
       "      <td>2014</td>\n",
       "      <td>4</td>\n",
       "    </tr>\n",
       "    <tr>\n",
       "      <th>...</th>\n",
       "      <td>...</td>\n",
       "      <td>...</td>\n",
       "      <td>...</td>\n",
       "      <td>...</td>\n",
       "      <td>...</td>\n",
       "      <td>...</td>\n",
       "      <td>...</td>\n",
       "      <td>...</td>\n",
       "      <td>...</td>\n",
       "      <td>...</td>\n",
       "      <td>...</td>\n",
       "    </tr>\n",
       "    <tr>\n",
       "      <th>9998</th>\n",
       "      <td>35689</td>\n",
       "      <td>5939.08</td>\n",
       "      <td>2</td>\n",
       "      <td>1</td>\n",
       "      <td>3</td>\n",
       "      <td>12</td>\n",
       "      <td>2016</td>\n",
       "      <td>4</td>\n",
       "      <td>11</td>\n",
       "      <td>2015</td>\n",
       "      <td>4</td>\n",
       "    </tr>\n",
       "    <tr>\n",
       "      <th>9998</th>\n",
       "      <td>6869</td>\n",
       "      <td>299.62</td>\n",
       "      <td>2</td>\n",
       "      <td>1</td>\n",
       "      <td>3</td>\n",
       "      <td>7</td>\n",
       "      <td>2016</td>\n",
       "      <td>3</td>\n",
       "      <td>11</td>\n",
       "      <td>2015</td>\n",
       "      <td>4</td>\n",
       "    </tr>\n",
       "    <tr>\n",
       "      <th>9998</th>\n",
       "      <td>3260</td>\n",
       "      <td>587.73</td>\n",
       "      <td>2</td>\n",
       "      <td>1</td>\n",
       "      <td>3</td>\n",
       "      <td>3</td>\n",
       "      <td>2016</td>\n",
       "      <td>1</td>\n",
       "      <td>11</td>\n",
       "      <td>2015</td>\n",
       "      <td>4</td>\n",
       "    </tr>\n",
       "    <tr>\n",
       "      <th>9998</th>\n",
       "      <td>35401</td>\n",
       "      <td>123.75</td>\n",
       "      <td>2</td>\n",
       "      <td>1</td>\n",
       "      <td>3</td>\n",
       "      <td>5</td>\n",
       "      <td>2016</td>\n",
       "      <td>2</td>\n",
       "      <td>11</td>\n",
       "      <td>2015</td>\n",
       "      <td>4</td>\n",
       "    </tr>\n",
       "    <tr>\n",
       "      <th>9998</th>\n",
       "      <td>52979</td>\n",
       "      <td>707.25</td>\n",
       "      <td>2</td>\n",
       "      <td>1</td>\n",
       "      <td>3</td>\n",
       "      <td>11</td>\n",
       "      <td>2018</td>\n",
       "      <td>4</td>\n",
       "      <td>11</td>\n",
       "      <td>2015</td>\n",
       "      <td>4</td>\n",
       "    </tr>\n",
       "  </tbody>\n",
       "</table>\n",
       "<p>22700 rows × 11 columns</p>\n",
       "</div>"
      ],
      "text/plain": [
       "       ClaimId  ClaimAmount  Species  Breed  AgeAtEnroll  ClaimDate_m  \\\n",
       "PetId                                                                   \n",
       "2        24729       346.61        1      2            3            4   \n",
       "2        13987       190.69        1      2            3            8   \n",
       "2        35612        75.32        1      2            3           12   \n",
       "2        35613       567.32        1      2            3           12   \n",
       "2         7633        82.80        1      2            3            2   \n",
       "...        ...          ...      ...    ...          ...          ...   \n",
       "9998     35689      5939.08        2      1            3           12   \n",
       "9998      6869       299.62        2      1            3            7   \n",
       "9998      3260       587.73        2      1            3            3   \n",
       "9998     35401       123.75        2      1            3            5   \n",
       "9998     52979       707.25        2      1            3           11   \n",
       "\n",
       "       ClaimDate_Y  ClaimDate_q  EnrollDate_m  EnrollDate_Y  EnrollDate_q  \n",
       "PetId                                                                      \n",
       "2             2018            2            12          2014             4  \n",
       "2             2018            3            12          2014             4  \n",
       "2             2015            4            12          2014             4  \n",
       "2             2017            4            12          2014             4  \n",
       "2             2018            1            12          2014             4  \n",
       "...            ...          ...           ...           ...           ...  \n",
       "9998          2016            4            11          2015             4  \n",
       "9998          2016            3            11          2015             4  \n",
       "9998          2016            1            11          2015             4  \n",
       "9998          2016            2            11          2015             4  \n",
       "9998          2018            4            11          2015             4  \n",
       "\n",
       "[22700 rows x 11 columns]"
      ]
     },
     "execution_count": 170,
     "metadata": {},
     "output_type": "execute_result"
    }
   ],
   "source": [
    "train_enc"
   ]
  },
  {
   "cell_type": "code",
   "execution_count": 122,
   "metadata": {},
   "outputs": [
    {
     "data": {
      "text/plain": [
       "array([1, 1, 1, ..., 0, 0, 0], dtype=int64)"
      ]
     },
     "execution_count": 122,
     "metadata": {},
     "output_type": "execute_result"
    }
   ],
   "source": [
    "X_arr = train_enc['Breed'].to_numpy()\n",
    "\n",
    "y_arr = train_enc['ClaimAmount'].to_numpy()\n",
    "X_arr"
   ]
  },
  {
   "cell_type": "code",
   "execution_count": 168,
   "metadata": {},
   "outputs": [],
   "source": [
    "import xgboost as xgb\n",
    "from sklearn.metrics import mean_squared_error, mean_absolute_error"
   ]
  },
  {
   "cell_type": "code",
   "execution_count": 171,
   "metadata": {},
   "outputs": [
    {
     "data": {
      "text/html": [
       "<div>\n",
       "<style scoped>\n",
       "    .dataframe tbody tr th:only-of-type {\n",
       "        vertical-align: middle;\n",
       "    }\n",
       "\n",
       "    .dataframe tbody tr th {\n",
       "        vertical-align: top;\n",
       "    }\n",
       "\n",
       "    .dataframe thead th {\n",
       "        text-align: right;\n",
       "    }\n",
       "</style>\n",
       "<table border=\"1\" class=\"dataframe\">\n",
       "  <thead>\n",
       "    <tr style=\"text-align: right;\">\n",
       "      <th></th>\n",
       "      <th>Species</th>\n",
       "      <th>Breed</th>\n",
       "      <th>AgeAtEnroll</th>\n",
       "      <th>ClaimDate_m</th>\n",
       "      <th>ClaimDate_Y</th>\n",
       "      <th>ClaimDate_q</th>\n",
       "      <th>EnrollDate_m</th>\n",
       "      <th>EnrollDate_Y</th>\n",
       "      <th>EnrollDate_q</th>\n",
       "    </tr>\n",
       "    <tr>\n",
       "      <th>PetId</th>\n",
       "      <th></th>\n",
       "      <th></th>\n",
       "      <th></th>\n",
       "      <th></th>\n",
       "      <th></th>\n",
       "      <th></th>\n",
       "      <th></th>\n",
       "      <th></th>\n",
       "      <th></th>\n",
       "    </tr>\n",
       "  </thead>\n",
       "  <tbody>\n",
       "    <tr>\n",
       "      <th>2</th>\n",
       "      <td>1</td>\n",
       "      <td>2</td>\n",
       "      <td>3</td>\n",
       "      <td>4</td>\n",
       "      <td>2018</td>\n",
       "      <td>2</td>\n",
       "      <td>12</td>\n",
       "      <td>2014</td>\n",
       "      <td>4</td>\n",
       "    </tr>\n",
       "    <tr>\n",
       "      <th>2</th>\n",
       "      <td>1</td>\n",
       "      <td>2</td>\n",
       "      <td>3</td>\n",
       "      <td>8</td>\n",
       "      <td>2018</td>\n",
       "      <td>3</td>\n",
       "      <td>12</td>\n",
       "      <td>2014</td>\n",
       "      <td>4</td>\n",
       "    </tr>\n",
       "    <tr>\n",
       "      <th>2</th>\n",
       "      <td>1</td>\n",
       "      <td>2</td>\n",
       "      <td>3</td>\n",
       "      <td>12</td>\n",
       "      <td>2015</td>\n",
       "      <td>4</td>\n",
       "      <td>12</td>\n",
       "      <td>2014</td>\n",
       "      <td>4</td>\n",
       "    </tr>\n",
       "    <tr>\n",
       "      <th>2</th>\n",
       "      <td>1</td>\n",
       "      <td>2</td>\n",
       "      <td>3</td>\n",
       "      <td>12</td>\n",
       "      <td>2017</td>\n",
       "      <td>4</td>\n",
       "      <td>12</td>\n",
       "      <td>2014</td>\n",
       "      <td>4</td>\n",
       "    </tr>\n",
       "    <tr>\n",
       "      <th>2</th>\n",
       "      <td>1</td>\n",
       "      <td>2</td>\n",
       "      <td>3</td>\n",
       "      <td>2</td>\n",
       "      <td>2018</td>\n",
       "      <td>1</td>\n",
       "      <td>12</td>\n",
       "      <td>2014</td>\n",
       "      <td>4</td>\n",
       "    </tr>\n",
       "  </tbody>\n",
       "</table>\n",
       "</div>"
      ],
      "text/plain": [
       "       Species  Breed  AgeAtEnroll  ClaimDate_m  ClaimDate_Y  ClaimDate_q  \\\n",
       "PetId                                                                       \n",
       "2            1      2            3            4         2018            2   \n",
       "2            1      2            3            8         2018            3   \n",
       "2            1      2            3           12         2015            4   \n",
       "2            1      2            3           12         2017            4   \n",
       "2            1      2            3            2         2018            1   \n",
       "\n",
       "       EnrollDate_m  EnrollDate_Y  EnrollDate_q  \n",
       "PetId                                            \n",
       "2                12          2014             4  \n",
       "2                12          2014             4  \n",
       "2                12          2014             4  \n",
       "2                12          2014             4  \n",
       "2                12          2014             4  "
      ]
     },
     "execution_count": 171,
     "metadata": {},
     "output_type": "execute_result"
    }
   ],
   "source": [
    "#Train Test Split\n",
    "## Dummy for now\n",
    "y_train, y_test = train_enc['ClaimAmount'][0:7000],train_enc['ClaimAmount'][7001:]\n",
    "train_enc = train_enc.drop(columns='ClaimAmount')\n",
    "train_enc = train_enc.drop(columns='ClaimId')\n",
    "X_train, X_test = train_enc[0:7000],train_enc[7001:]\n",
    "X_train.head()\n",
    " "
   ]
  },
  {
   "cell_type": "code",
   "execution_count": 172,
   "metadata": {},
   "outputs": [
    {
     "name": "stderr",
     "output_type": "stream",
     "text": [
      "C:\\Users\\D4rkmatter\\Anaconda3\\lib\\site-packages\\xgboost\\core.py:587: FutureWarning: Series.base is deprecated and will be removed in a future version\n",
      "  if getattr(data, 'base', None) is not None and \\\n",
      "C:\\Users\\D4rkmatter\\Anaconda3\\lib\\site-packages\\xgboost\\core.py:588: FutureWarning: Series.base is deprecated and will be removed in a future version\n",
      "  data.base is not None and isinstance(data, np.ndarray) \\\n"
     ]
    },
    {
     "name": "stdout",
     "output_type": "stream",
     "text": [
      "[22:26:31] WARNING: src/objective/regression_obj.cu:152: reg:linear is now deprecated in favor of reg:squarederror.\n"
     ]
    },
    {
     "data": {
      "text/plain": [
       "XGBRegressor(base_score=0.5, booster='gbtree', colsample_bylevel=1,\n",
       "             colsample_bynode=1, colsample_bytree=1, gamma=0,\n",
       "             importance_type='gain', learning_rate=0.1, max_delta_step=0,\n",
       "             max_depth=3, min_child_weight=1, missing=None, n_estimators=1000,\n",
       "             n_jobs=1, nthread=None, objective='reg:linear', random_state=0,\n",
       "             reg_alpha=0, reg_lambda=1, scale_pos_weight=1, seed=None,\n",
       "             silent=None, subsample=1, verbosity=1)"
      ]
     },
     "execution_count": 172,
     "metadata": {},
     "output_type": "execute_result"
    }
   ],
   "source": [
    "reg = xgb.XGBRegressor(n_estimators=1000)\n",
    "reg.fit(X_train, y_train,\n",
    "        eval_set=[(X_train, y_train), (X_test, y_test)],\n",
    "        early_stopping_rounds=50, #stop if 50 consequent rounds without decrease of error\n",
    "        verbose=False)"
   ]
  },
  {
   "cell_type": "code",
   "execution_count": 173,
   "metadata": {},
   "outputs": [
    {
     "data": {
      "text/plain": [
       "<matplotlib.axes._subplots.AxesSubplot at 0x21fda7df438>"
      ]
     },
     "execution_count": 173,
     "metadata": {},
     "output_type": "execute_result"
    },
    {
     "data": {
      "image/png": "[encoded data removed]",
      "text/plain": [
       "<Figure size 432x288 with 1 Axes>"
      ]
     },
     "metadata": {
      "needs_background": "light"
     },
     "output_type": "display_data"
    }
   ],
   "source": [
    "xgb.plot_importance(reg,height=0.9)"
   ]
  },
  {
   "cell_type": "code",
   "execution_count": 189,
   "metadata": {},
   "outputs": [
    {
     "data": {
      "text/plain": [
       "2339460.74483525"
      ]
     },
     "execution_count": 189,
     "metadata": {},
     "output_type": "execute_result"
    }
   ],
   "source": [
    "X_test_pred = reg.predict(X_test)\n",
    "mean_squared_error(y_true=y_test,\n",
    "                   y_pred=X_test_pred)\n",
    "\n",
    "mean_absolute_error(y_true=y_test,\n",
    "                   y_pred=X_test_pred)"
   ]
  },
  {
   "cell_type": "code",
   "execution_count": 191,
   "metadata": {},
   "outputs": [
    {
     "ename": "ValueError",
     "evalue": "continuous is not supported",
     "output_type": "error",
     "traceback": [
      "\u001b[1;31m---------------------------------------------------------------------------\u001b[0m",
      "\u001b[1;31mValueError\u001b[0m                                Traceback (most recent call last)",
      "\u001b[1;32m<ipython-input-191-383b25db7ad4>\u001b[0m in \u001b[0;36m<module>\u001b[1;34m\u001b[0m\n\u001b[1;32m----> 1\u001b[1;33m \u001b[0msk\u001b[0m\u001b[1;33m.\u001b[0m\u001b[0mmetrics\u001b[0m\u001b[1;33m.\u001b[0m\u001b[0mconfusion_matrix\u001b[0m\u001b[1;33m(\u001b[0m\u001b[0my_test\u001b[0m\u001b[1;33m,\u001b[0m\u001b[0mX_test_pred\u001b[0m\u001b[1;33m)\u001b[0m\u001b[1;33m\u001b[0m\u001b[1;33m\u001b[0m\u001b[0m\n\u001b[0m",
      "\u001b[1;32m~\\Anaconda3\\lib\\site-packages\\sklearn\\metrics\\_classification.py\u001b[0m in \u001b[0;36mconfusion_matrix\u001b[1;34m(y_true, y_pred, labels, sample_weight, normalize)\u001b[0m\n\u001b[0;32m    266\u001b[0m \u001b[1;33m\u001b[0m\u001b[0m\n\u001b[0;32m    267\u001b[0m     \"\"\"\n\u001b[1;32m--> 268\u001b[1;33m     \u001b[0my_type\u001b[0m\u001b[1;33m,\u001b[0m \u001b[0my_true\u001b[0m\u001b[1;33m,\u001b[0m \u001b[0my_pred\u001b[0m \u001b[1;33m=\u001b[0m \u001b[0m_check_targets\u001b[0m\u001b[1;33m(\u001b[0m\u001b[0my_true\u001b[0m\u001b[1;33m,\u001b[0m \u001b[0my_pred\u001b[0m\u001b[1;33m)\u001b[0m\u001b[1;33m\u001b[0m\u001b[1;33m\u001b[0m\u001b[0m\n\u001b[0m\u001b[0;32m    269\u001b[0m     \u001b[1;32mif\u001b[0m \u001b[0my_type\u001b[0m \u001b[1;32mnot\u001b[0m \u001b[1;32min\u001b[0m \u001b[1;33m(\u001b[0m\u001b[1;34m\"binary\"\u001b[0m\u001b[1;33m,\u001b[0m \u001b[1;34m\"multiclass\"\u001b[0m\u001b[1;33m)\u001b[0m\u001b[1;33m:\u001b[0m\u001b[1;33m\u001b[0m\u001b[1;33m\u001b[0m\u001b[0m\n\u001b[0;32m    270\u001b[0m         \u001b[1;32mraise\u001b[0m \u001b[0mValueError\u001b[0m\u001b[1;33m(\u001b[0m\u001b[1;34m\"%s is not supported\"\u001b[0m \u001b[1;33m%\u001b[0m \u001b[0my_type\u001b[0m\u001b[1;33m)\u001b[0m\u001b[1;33m\u001b[0m\u001b[1;33m\u001b[0m\u001b[0m\n",
      "\u001b[1;32m~\\Anaconda3\\lib\\site-packages\\sklearn\\metrics\\_classification.py\u001b[0m in \u001b[0;36m_check_targets\u001b[1;34m(y_true, y_pred)\u001b[0m\n\u001b[0;32m     95\u001b[0m     \u001b[1;31m# No metrics support \"multiclass-multioutput\" format\u001b[0m\u001b[1;33m\u001b[0m\u001b[1;33m\u001b[0m\u001b[1;33m\u001b[0m\u001b[0m\n\u001b[0;32m     96\u001b[0m     \u001b[1;32mif\u001b[0m \u001b[1;33m(\u001b[0m\u001b[0my_type\u001b[0m \u001b[1;32mnot\u001b[0m \u001b[1;32min\u001b[0m \u001b[1;33m[\u001b[0m\u001b[1;34m\"binary\"\u001b[0m\u001b[1;33m,\u001b[0m \u001b[1;34m\"multiclass\"\u001b[0m\u001b[1;33m,\u001b[0m \u001b[1;34m\"multilabel-indicator\"\u001b[0m\u001b[1;33m]\u001b[0m\u001b[1;33m)\u001b[0m\u001b[1;33m:\u001b[0m\u001b[1;33m\u001b[0m\u001b[1;33m\u001b[0m\u001b[0m\n\u001b[1;32m---> 97\u001b[1;33m         \u001b[1;32mraise\u001b[0m \u001b[0mValueError\u001b[0m\u001b[1;33m(\u001b[0m\u001b[1;34m\"{0} is not supported\"\u001b[0m\u001b[1;33m.\u001b[0m\u001b[0mformat\u001b[0m\u001b[1;33m(\u001b[0m\u001b[0my_type\u001b[0m\u001b[1;33m)\u001b[0m\u001b[1;33m)\u001b[0m\u001b[1;33m\u001b[0m\u001b[1;33m\u001b[0m\u001b[0m\n\u001b[0m\u001b[0;32m     98\u001b[0m \u001b[1;33m\u001b[0m\u001b[0m\n\u001b[0;32m     99\u001b[0m     \u001b[1;32mif\u001b[0m \u001b[0my_type\u001b[0m \u001b[1;32min\u001b[0m \u001b[1;33m[\u001b[0m\u001b[1;34m\"binary\"\u001b[0m\u001b[1;33m,\u001b[0m \u001b[1;34m\"multiclass\"\u001b[0m\u001b[1;33m]\u001b[0m\u001b[1;33m:\u001b[0m\u001b[1;33m\u001b[0m\u001b[1;33m\u001b[0m\u001b[0m\n",
      "\u001b[1;31mValueError\u001b[0m: continuous is not supported"
     ]
    }
   ],
   "source": [
    "sk.metrics.confusion_matrix(y_test,X_test_pred)"
   ]
  },
  {
   "cell_type": "code",
   "execution_count": 179,
   "metadata": {},
   "outputs": [],
   "source": [
    "def plot_performance(base_data, date_from, date_to, title=None):\n",
    "    plt.figure(figsize=(15,3))\n",
    "    if title == None:\n",
    "        plt.title('From {0} To {1}'.format(date_from, date_to))\n",
    "    else:\n",
    "        plt.title(title)\n",
    "    plt.xlabel('time')\n",
    "    plt.ylabel('energy consumed')\n",
    "    plt.plot(train_enc.index,train_enc, label='data')\n",
    "    plt.plot(X_test.index,X_test_pred, label='prediction')\n",
    "    plt.legend()\n",
    "    plt.xlim(left=date_from, right=date_to)"
   ]
  },
  {
   "cell_type": "code",
   "execution_count": 180,
   "metadata": {},
   "outputs": [
    {
     "ename": "AttributeError",
     "evalue": "'numpy.int64' object has no attribute 'date'",
     "output_type": "error",
     "traceback": [
      "\u001b[1;31m---------------------------------------------------------------------------\u001b[0m",
      "\u001b[1;31mAttributeError\u001b[0m                            Traceback (most recent call last)",
      "\u001b[1;32m<ipython-input-180-0b5d4b8bf97b>\u001b[0m in \u001b[0;36m<module>\u001b[1;34m\u001b[0m\n\u001b[0;32m      4\u001b[0m                  'Original and Predicted Data')\n\u001b[0;32m      5\u001b[0m \u001b[1;33m\u001b[0m\u001b[0m\n\u001b[1;32m----> 6\u001b[1;33m plot_performance(y_test, y_test.index[0].date(), y_test.index[-1].date(),\n\u001b[0m\u001b[0;32m      7\u001b[0m                  'Test and Predicted Data')\n\u001b[0;32m      8\u001b[0m \u001b[1;33m\u001b[0m\u001b[0m\n",
      "\u001b[1;31mAttributeError\u001b[0m: 'numpy.int64' object has no attribute 'date'"
     ]
    },
    {
     "name": "stderr",
     "output_type": "stream",
     "text": [
      "C:\\Users\\D4rkmatter\\Anaconda3\\lib\\site-packages\\IPython\\core\\pylabtools.py:128: UserWarning: Creating legend with loc=\"best\" can be slow with large amounts of data.\n",
      "  fig.canvas.print_figure(bytes_io, **kw)\n"
     ]
    },
    {
     "data": {
      "image/png": "[encoded data removed]",
      "text/plain": [
       "<Figure size 1080x216 with 1 Axes>"
      ]
     },
     "metadata": {
      "needs_background": "light"
     },
     "output_type": "display_data"
    }
   ],
   "source": [
    "X_test_pred = reg.predict(X_test)\n",
    "    \n",
    "plot_performance(train_enc, train_enc.index[0], train_enc.index[-1],\n",
    "                 'Original and Predicted Data')\n",
    "\n",
    "plot_performance(y_test, y_test.index[0].date(), y_test.index[-1].date(),\n",
    "                 'Test and Predicted Data')\n",
    "\n",
    "plot_performance(y_test, '01-01-2015', '02-01-2015', 'January 2015 Snapshot')\n",
    "\n",
    "plt.legend()\n",
    "\n",
    "plt.show()"
   ]
  },
  {
   "cell_type": "code",
   "execution_count": 126,
   "metadata": {},
   "outputs": [
    {
     "ename": "ValueError",
     "evalue": "Unknown label type: 'continuous'",
     "output_type": "error",
     "traceback": [
      "\u001b[1;31m---------------------------------------------------------------------------\u001b[0m",
      "\u001b[1;31mValueError\u001b[0m                                Traceback (most recent call last)",
      "\u001b[1;32m<ipython-input-126-d3bc48c1fa9f>\u001b[0m in \u001b[0;36m<module>\u001b[1;34m\u001b[0m\n\u001b[0;32m      1\u001b[0m \u001b[1;32mfrom\u001b[0m \u001b[0mimblearn\u001b[0m\u001b[1;33m.\u001b[0m\u001b[0mover_sampling\u001b[0m \u001b[1;32mimport\u001b[0m \u001b[0mRandomOverSampler\u001b[0m\u001b[1;33m\u001b[0m\u001b[1;33m\u001b[0m\u001b[0m\n\u001b[0;32m      2\u001b[0m \u001b[0mros\u001b[0m \u001b[1;33m=\u001b[0m \u001b[0mRandomOverSampler\u001b[0m\u001b[1;33m(\u001b[0m\u001b[0mrandom_state\u001b[0m\u001b[1;33m=\u001b[0m\u001b[1;36m0\u001b[0m\u001b[1;33m)\u001b[0m\u001b[1;33m\u001b[0m\u001b[1;33m\u001b[0m\u001b[0m\n\u001b[1;32m----> 3\u001b[1;33m \u001b[0mX_resampled\u001b[0m\u001b[1;33m,\u001b[0m \u001b[0my_resampled\u001b[0m \u001b[1;33m=\u001b[0m \u001b[0mros\u001b[0m\u001b[1;33m.\u001b[0m\u001b[0mfit_resample\u001b[0m\u001b[1;33m(\u001b[0m\u001b[0mX_arr\u001b[0m\u001b[1;33m,\u001b[0m \u001b[0my_arr\u001b[0m\u001b[1;33m)\u001b[0m\u001b[1;33m\u001b[0m\u001b[1;33m\u001b[0m\u001b[0m\n\u001b[0m\u001b[0;32m      4\u001b[0m \u001b[1;32mfrom\u001b[0m \u001b[0mcollections\u001b[0m \u001b[1;32mimport\u001b[0m \u001b[0mCounter\u001b[0m\u001b[1;33m\u001b[0m\u001b[1;33m\u001b[0m\u001b[0m\n\u001b[0;32m      5\u001b[0m \u001b[0mprint\u001b[0m\u001b[1;33m(\u001b[0m\u001b[0msorted\u001b[0m\u001b[1;33m(\u001b[0m\u001b[0mCounter\u001b[0m\u001b[1;33m(\u001b[0m\u001b[0my_resampled\u001b[0m\u001b[1;33m)\u001b[0m\u001b[1;33m.\u001b[0m\u001b[0mitems\u001b[0m\u001b[1;33m(\u001b[0m\u001b[1;33m)\u001b[0m\u001b[1;33m)\u001b[0m\u001b[1;33m)\u001b[0m\u001b[1;33m\u001b[0m\u001b[1;33m\u001b[0m\u001b[0m\n",
      "\u001b[1;32m~\\Anaconda3\\lib\\site-packages\\imblearn\\base.py\u001b[0m in \u001b[0;36mfit_resample\u001b[1;34m(self, X, y)\u001b[0m\n\u001b[0;32m     72\u001b[0m             \u001b[0mThe\u001b[0m \u001b[0mcorresponding\u001b[0m \u001b[0mlabel\u001b[0m \u001b[0mof\u001b[0m\u001b[0;31m \u001b[0m\u001b[0;31m`\u001b[0m\u001b[0mX_resampled\u001b[0m\u001b[0;31m`\u001b[0m\u001b[1;33m.\u001b[0m\u001b[1;33m\u001b[0m\u001b[1;33m\u001b[0m\u001b[0m\n\u001b[0;32m     73\u001b[0m         \"\"\"\n\u001b[1;32m---> 74\u001b[1;33m         \u001b[0mcheck_classification_targets\u001b[0m\u001b[1;33m(\u001b[0m\u001b[0my\u001b[0m\u001b[1;33m)\u001b[0m\u001b[1;33m\u001b[0m\u001b[1;33m\u001b[0m\u001b[0m\n\u001b[0m\u001b[0;32m     75\u001b[0m         \u001b[0mX\u001b[0m\u001b[1;33m,\u001b[0m \u001b[0my\u001b[0m\u001b[1;33m,\u001b[0m \u001b[0mbinarize_y\u001b[0m \u001b[1;33m=\u001b[0m \u001b[0mself\u001b[0m\u001b[1;33m.\u001b[0m\u001b[0m_check_X_y\u001b[0m\u001b[1;33m(\u001b[0m\u001b[0mX\u001b[0m\u001b[1;33m,\u001b[0m \u001b[0my\u001b[0m\u001b[1;33m)\u001b[0m\u001b[1;33m\u001b[0m\u001b[1;33m\u001b[0m\u001b[0m\n\u001b[0;32m     76\u001b[0m \u001b[1;33m\u001b[0m\u001b[0m\n",
      "\u001b[1;32m~\\Anaconda3\\lib\\site-packages\\sklearn\\utils\\multiclass.py\u001b[0m in \u001b[0;36mcheck_classification_targets\u001b[1;34m(y)\u001b[0m\n\u001b[0;32m    167\u001b[0m     if y_type not in ['binary', 'multiclass', 'multiclass-multioutput',\n\u001b[0;32m    168\u001b[0m                       'multilabel-indicator', 'multilabel-sequences']:\n\u001b[1;32m--> 169\u001b[1;33m         \u001b[1;32mraise\u001b[0m \u001b[0mValueError\u001b[0m\u001b[1;33m(\u001b[0m\u001b[1;34m\"Unknown label type: %r\"\u001b[0m \u001b[1;33m%\u001b[0m \u001b[0my_type\u001b[0m\u001b[1;33m)\u001b[0m\u001b[1;33m\u001b[0m\u001b[1;33m\u001b[0m\u001b[0m\n\u001b[0m\u001b[0;32m    170\u001b[0m \u001b[1;33m\u001b[0m\u001b[0m\n\u001b[0;32m    171\u001b[0m \u001b[1;33m\u001b[0m\u001b[0m\n",
      "\u001b[1;31mValueError\u001b[0m: Unknown label type: 'continuous'"
     ]
    }
   ],
   "source": [
    "from imblearn.over_sampling import RandomOverSampler\n",
    "ros = RandomOverSampler(random_state=0)\n",
    "X_resampled, y_resampled = ros.fit_resample(X_arr, y_arr)\n",
    "from collections import Counter\n",
    "print(sorted(Counter(y_resampled).items()))"
   ]
  },
  {
   "cell_type": "markdown",
   "metadata": {},
   "source": [
    "https://keras-pandas.readthedocs.io/en/latest/autosummary/data_types.Categorical.Categorical.html\n",
    "    https://pandas.pydata.org/pandas-docs/stable/user_guide/categorical.html"
   ]
  },
  {
   "cell_type": "markdown",
   "metadata": {},
   "source": [
    "https://www.kaggle.com/rafjaa/resampling-strategies-for-imbalanced-datasets\n"
   ]
  }
 ],
 "metadata": {
  "kernelspec": {
   "display_name": "Python 3",
   "language": "python",
   "name": "python3"
  },
  "language_info": {
   "codemirror_mode": {
    "name": "ipython",
    "version": 3
   },
   "file_extension": ".py",
   "mimetype": "text/x-python",
   "name": "python",
   "nbconvert_exporter": "python",
   "pygments_lexer": "ipython3",
   "version": "3.6.10"
  }
 },
 "nbformat": 4,
 "nbformat_minor": 4
}
